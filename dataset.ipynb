{
 "cells": [
  {
   "cell_type": "code",
   "execution_count": 1,
   "id": "86e736c2",
   "metadata": {},
   "outputs": [],
   "source": [
    "import pandas as pd"
   ]
  },
  {
   "cell_type": "code",
   "execution_count": 2,
   "id": "373cda68",
   "metadata": {},
   "outputs": [],
   "source": [
    "df = pd.read_csv(\"data/freelancer_earnings_bd.csv\")"
   ]
  },
  {
   "cell_type": "code",
   "execution_count": 3,
   "id": "96072a7c",
   "metadata": {},
   "outputs": [
    {
     "name": "stdout",
     "output_type": "stream",
     "text": [
      "Общая структура:\n",
      "<class 'pandas.core.frame.DataFrame'>\n",
      "RangeIndex: 1950 entries, 0 to 1949\n",
      "Data columns (total 15 columns):\n",
      " #   Column             Non-Null Count  Dtype  \n",
      "---  ------             --------------  -----  \n",
      " 0   Freelancer_ID      1950 non-null   int64  \n",
      " 1   Job_Category       1950 non-null   object \n",
      " 2   Platform           1950 non-null   object \n",
      " 3   Experience_Level   1950 non-null   object \n",
      " 4   Client_Region      1950 non-null   object \n",
      " 5   Payment_Method     1950 non-null   object \n",
      " 6   Job_Completed      1950 non-null   int64  \n",
      " 7   Earnings_USD       1950 non-null   int64  \n",
      " 8   Hourly_Rate        1950 non-null   float64\n",
      " 9   Job_Success_Rate   1950 non-null   float64\n",
      " 10  Client_Rating      1950 non-null   float64\n",
      " 11  Job_Duration_Days  1950 non-null   int64  \n",
      " 12  Project_Type       1950 non-null   object \n",
      " 13  Rehire_Rate        1950 non-null   float64\n",
      " 14  Marketing_Spend    1950 non-null   int64  \n",
      "dtypes: float64(4), int64(5), object(6)\n",
      "memory usage: 228.6+ KB\n",
      "None\n",
      "\n",
      "Первые строки:\n",
      "   Freelancer_ID       Job_Category       Platform Experience_Level  \\\n",
      "0              1    Web Development         Fiverr         Beginner   \n",
      "1              2    App Development         Fiverr         Beginner   \n",
      "2              3    Web Development         Fiverr         Beginner   \n",
      "3              4         Data Entry  PeoplePerHour     Intermediate   \n",
      "4              5  Digital Marketing         Upwork           Expert   \n",
      "\n",
      "  Client_Region  Payment_Method  Job_Completed  Earnings_USD  Hourly_Rate  \\\n",
      "0          Asia  Mobile Banking            180          1620        95.79   \n",
      "1     Australia  Mobile Banking            218          9078        86.38   \n",
      "2            UK          Crypto             27          3455        85.17   \n",
      "3          Asia   Bank Transfer             17          5577        14.37   \n",
      "4          Asia          Crypto            245          5898        99.37   \n",
      "\n",
      "   Job_Success_Rate  Client_Rating  Job_Duration_Days Project_Type  \\\n",
      "0             68.73           3.18                  1        Fixed   \n",
      "1             97.54           3.44                 54        Fixed   \n",
      "2             86.60           4.20                 46       Hourly   \n",
      "3             79.93           4.47                 41       Hourly   \n",
      "4             57.80           5.00                 41       Hourly   \n",
      "\n",
      "   Rehire_Rate  Marketing_Spend  \n",
      "0        40.19               53  \n",
      "1        36.53              486  \n",
      "2        74.05              489  \n",
      "3        27.58               67  \n",
      "4        69.09              489  \n",
      "\n",
      "Колонки в датасете:\n",
      "['Freelancer_ID', 'Job_Category', 'Platform', 'Experience_Level', 'Client_Region', 'Payment_Method', 'Job_Completed', 'Earnings_USD', 'Hourly_Rate', 'Job_Success_Rate', 'Client_Rating', 'Job_Duration_Days', 'Project_Type', 'Rehire_Rate', 'Marketing_Spend']\n"
     ]
    }
   ],
   "source": [
    "print(\"Общая структура:\")\n",
    "print(df.info())\n",
    "\n",
    "print(\"\\nПервые строки:\")\n",
    "print(df.head())\n",
    "\n",
    "print(\"\\nКолонки в датасете:\")\n",
    "print(df.columns.tolist())"
   ]
  },
  {
   "cell_type": "code",
   "execution_count": 4,
   "id": "fa325266",
   "metadata": {},
   "outputs": [
    {
     "name": "stdout",
     "output_type": "stream",
     "text": [
      "\n",
      "Пропущенные значения по колонкам:\n",
      "Freelancer_ID        0\n",
      "Job_Category         0\n",
      "Platform             0\n",
      "Experience_Level     0\n",
      "Client_Region        0\n",
      "Payment_Method       0\n",
      "Job_Completed        0\n",
      "Earnings_USD         0\n",
      "Hourly_Rate          0\n",
      "Job_Success_Rate     0\n",
      "Client_Rating        0\n",
      "Job_Duration_Days    0\n",
      "Project_Type         0\n",
      "Rehire_Rate          0\n",
      "Marketing_Spend      0\n",
      "dtype: int64\n"
     ]
    }
   ],
   "source": [
    "print(\"\\nПропущенные значения по колонкам:\")\n",
    "print(df.isnull().sum())"
   ]
  },
  {
   "cell_type": "code",
   "execution_count": 5,
   "id": "43b22388",
   "metadata": {},
   "outputs": [
    {
     "name": "stdout",
     "output_type": "stream",
     "text": [
      "\n",
      "Уникальные категории Job_Category:\n",
      "['Web Development' 'App Development' 'Data Entry' 'Digital Marketing'\n",
      " 'Customer Support' 'Content Writing' 'Graphic Design' 'SEO']\n"
     ]
    }
   ],
   "source": [
    "print(\"\\nУникальные категории Job_Category:\")\n",
    "print(df[\"Job_Category\"].unique())"
   ]
  },
  {
   "cell_type": "code",
   "execution_count": 6,
   "id": "6a2ab635",
   "metadata": {},
   "outputs": [
    {
     "name": "stdout",
     "output_type": "stream",
     "text": [
      "\n",
      "Средняя ставка по категориям:\n",
      "Job_Category\n",
      "Content Writing      54.68\n",
      "SEO                  54.31\n",
      "Customer Support     54.14\n",
      "Digital Marketing    54.09\n",
      "Web Development      51.50\n",
      "Graphic Design       51.48\n",
      "App Development      50.45\n",
      "Data Entry           50.35\n",
      "Name: Hourly_Rate, dtype: float64\n"
     ]
    }
   ],
   "source": [
    "avg_rate_by_category = df.groupby(\"Job_Category\")[\"Hourly_Rate\"].mean().sort_values(ascending=False)\n",
    "print(\"\\nСредняя ставка по категориям:\")\n",
    "print(avg_rate_by_category.round(2))"
   ]
  },
  {
   "cell_type": "code",
   "execution_count": 7,
   "id": "32f34983",
   "metadata": {},
   "outputs": [
    {
     "name": "stdout",
     "output_type": "stream",
     "text": [
      "\n",
      "Средний доход по методам оплаты:\n",
      "Payment_Method\n",
      "Crypto            5139.30\n",
      "Bank Transfer     5019.96\n",
      "PayPal            4976.69\n",
      "Mobile Banking    4923.65\n",
      "Name: Earnings_USD, dtype: float64\n"
     ]
    }
   ],
   "source": [
    "avg_earnings_by_payment = df.groupby(\"Payment_Method\")[\"Earnings_USD\"].mean().sort_values(ascending=False)\n",
    "print(\"\\nСредний доход по методам оплаты:\")\n",
    "print(avg_earnings_by_payment.round(2))"
   ]
  },
  {
   "cell_type": "code",
   "execution_count": 8,
   "id": "21cbe4be",
   "metadata": {},
   "outputs": [
    {
     "name": "stdout",
     "output_type": "stream",
     "text": [
      "\n",
      "Средняя ставка по регионам:\n",
      "Client_Region\n",
      "Middle East    54.51\n",
      "USA            53.79\n",
      "Asia           53.29\n",
      "UK             52.36\n",
      "Europe         52.36\n",
      "Australia      52.24\n",
      "Canada         48.94\n",
      "Name: Hourly_Rate, dtype: float64\n"
     ]
    }
   ],
   "source": [
    "avg_rate_by_region = df.groupby(\"Client_Region\")[\"Hourly_Rate\"].mean().sort_values(ascending=False)\n",
    "print(\"\\nСредняя ставка по регионам:\")\n",
    "print(avg_rate_by_region.round(2))"
   ]
  },
  {
   "cell_type": "code",
   "execution_count": 9,
   "id": "4d5de0ff",
   "metadata": {},
   "outputs": [
    {
     "name": "stdout",
     "output_type": "stream",
     "text": [
      "\n",
      "Средняя ставка по уровню опыта:\n",
      "Experience_Level\n",
      "Intermediate    54.43\n",
      "Expert          52.42\n",
      "Beginner        50.96\n",
      "Name: Hourly_Rate, dtype: float64\n"
     ]
    }
   ],
   "source": [
    "avg_rate_by_experience = df.groupby(\"Experience_Level\")[\"Hourly_Rate\"].mean().sort_values(ascending=False)\n",
    "print(\"\\nСредняя ставка по уровню опыта:\")\n",
    "print(avg_rate_by_experience.round(2))"
   ]
  },
  {
   "cell_type": "code",
   "execution_count": 10,
   "id": "4668374f",
   "metadata": {},
   "outputs": [
    {
     "name": "stdout",
     "output_type": "stream",
     "text": [
      "\n",
      "Процент экспертов, выполнивших менее 100 проектов: 33.85%\n"
     ]
    }
   ],
   "source": [
    "experts = df[df[\"Experience_Level\"] == \"Expert\"]\n",
    "less_than_100 = experts[experts[\"Job_Completed\"] < 100]\n",
    "percentage = len(less_than_100) / len(experts) * 100\n",
    "\n",
    "print(f\"\\nПроцент экспертов, выполнивших менее 100 проектов: {percentage:.2f}%\")"
   ]
  },
  {
   "cell_type": "code",
   "execution_count": 11,
   "id": "639adc59",
   "metadata": {},
   "outputs": [
    {
     "name": "stdout",
     "output_type": "stream",
     "text": [
      "\n",
      "Средний доход по платформам:\n",
      "Platform\n",
      "Fiverr           5067.72\n",
      "Freelancer       5039.27\n",
      "PeoplePerHour    5030.78\n",
      "Upwork           5028.96\n",
      "Toptal           4922.62\n",
      "Name: Earnings_USD, dtype: float64\n"
     ]
    }
   ],
   "source": [
    "avg_earnings_by_platform = df.groupby(\"Platform\")[\"Earnings_USD\"].mean().sort_values(ascending=False)\n",
    "print(\"\\nСредний доход по платформам:\")\n",
    "print(avg_earnings_by_platform.round(2))"
   ]
  },
  {
   "cell_type": "code",
   "execution_count": 3,
   "id": "f95740a0",
   "metadata": {},
   "outputs": [],
   "source": [
    "df_cleaned = df.dropna()"
   ]
  },
  {
   "cell_type": "code",
   "execution_count": 4,
   "id": "fb5ca08b",
   "metadata": {},
   "outputs": [],
   "source": [
    "df.to_csv(\"data/freelancer_earnings_bd_clean.csv\", index=False)"
   ]
  },
  {
   "cell_type": "code",
   "execution_count": null,
   "id": "12938963",
   "metadata": {},
   "outputs": [],
   "source": []
  }
 ],
 "metadata": {
  "kernelspec": {
   "display_name": "env",
   "language": "python",
   "name": "python3"
  },
  "language_info": {
   "codemirror_mode": {
    "name": "ipython",
    "version": 3
   },
   "file_extension": ".py",
   "mimetype": "text/x-python",
   "name": "python",
   "nbconvert_exporter": "python",
   "pygments_lexer": "ipython3",
   "version": "3.11.9"
  }
 },
 "nbformat": 4,
 "nbformat_minor": 5
}
